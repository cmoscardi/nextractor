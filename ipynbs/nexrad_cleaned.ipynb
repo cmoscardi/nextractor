{
 "cells": [
  {
   "cell_type": "code",
   "execution_count": 1,
   "metadata": {},
   "outputs": [],
   "source": [
    "from datetime import datetime\n",
    "import os\n",
    "\n",
    "import matplotlib\n",
    "import matplotlib.pyplot as plt\n",
    "import numpy as np\n",
    "import pandas as pd\n",
    "import pyproj\n",
    "\n",
    "from radar_utils import plot_video\n",
    "\n",
    "%matplotlib inline\n",
    "\n",
    "# https://www.timeanddate.com/weather/usa/brooklyn/historic?month=9&year=2017"
   ]
  },
  {
   "cell_type": "code",
   "execution_count": 2,
   "metadata": {},
   "outputs": [],
   "source": [
    "def latlon_to_ny(lat, lon):\n",
    "   \"\"\" lat/lon to NYS \"\"\"\n",
    "\n",
    "   proj = pyproj.Proj(init=\"epsg:2263\", preserve_units=True)\n",
    "   result = proj(lon, lat)\n",
    "\n",
    "   return result\n",
    "\n",
    "def ny_to_latlon(ny_lat, ny_lon):\n",
    "    \"\"\" NYS to lat/lon \"\"\"\n",
    "\n",
    "    proj   = pyproj.Proj(init=\"epsg:2263\", preserve_units=True)\n",
    "    result = proj(ny_lat, ny_lon, inverse=True)\n",
    "\n",
    "    return result[1], result[0]"
   ]
  },
  {
   "cell_type": "code",
   "execution_count": null,
   "metadata": {},
   "outputs": [],
   "source": [
    "def Bird_Count(dbz):\n",
    "    # get count for birds crossing 1.6km line in 1 hour\n",
    "    # count = birds per 1.6km/hr\n",
    "    count = (30.108 * (dbz**3)) - (1168.65 * (dbz**2)) + (15538.004 * dbz) - 59711.238\n",
    "    \n",
    "    # 1.6km to 100m\n",
    "    # count = birds per 100m/hr\n",
    "    count = count * 18.75\n",
    "    \n",
    "    # 1 hour to 10 minutes\n",
    "    # count = birds per 100m/10min\n",
    "    count = count / 6\n",
    "    return count"
   ]
  },
  {
   "cell_type": "code",
   "execution_count": null,
   "metadata": {},
   "outputs": [],
   "source": [
    "directory1 = 'data/09/28/'\n",
    "directory2 = 'data/09/29/'\n",
    "\n",
    "# for processing each file\n",
    "csv_df = pd.DataFrame()\n",
    "# final df\n",
    "df = pd.DataFrame()\n",
    "\n",
    "\n",
    "for filename in os.listdir(directory1) + os.listdir(directory2):\n",
    "    if filename.endswith(\".csv\"):\n",
    "        try:\n",
    "            csv_df = pd.read_csv(directory1 + filename,index_col=0)\n",
    "        except FileNotFoundError:\n",
    "            csv_df = pd.read_csv(directory2 + filename,index_col=0)\n",
    "            \n",
    "        #csv_df = csv_df.drop(['Unnamed: 0'], axis=1)\n",
    "        csv_df['Date_Time'] = pd.to_datetime(filename[4:19],format='%Y%m%d_%H%M%S')\n",
    "        df = df.append(csv_df)"
   ]
  },
  {
   "cell_type": "code",
   "execution_count": null,
   "metadata": {
    "scrolled": true
   },
   "outputs": [],
   "source": [
    "df.Date_Time.value_counts().sort_index().plot(style='-o')"
   ]
  },
  {
   "cell_type": "code",
   "execution_count": null,
   "metadata": {},
   "outputs": [],
   "source": [
    "from IPython.display import HTML\n",
    "from matplotlib import animation\n",
    "import numpy as np\n",
    "from mpl_toolkits.axes_grid1 import make_axes_locatable\n",
    "\n",
    "def plot_video(frame):\n",
    "    fig, ax = plt.subplots(figsize=(10, 6))\n",
    "    divider = make_axes_locatable(ax)\n",
    "\n",
    "    cax = divider.append_axes('right', size='5%', pad=0.05)\n",
    "\n",
    "    scatter = ax.scatter([frame[\"s1\"].min(), frame[\"s2\"].min()], \n",
    "                         [frame[\"s1\"].min(), frame[\"s2\"].min()],\n",
    "                         c=[frame[\"DBZH\"].min(), frame[\"DBZH\"].max()])\n",
    "    print(scatter)\n",
    "    ax.set_xlim([frame[\"s1\"].min(), frame[\"s1\"].max()])\n",
    "    ax.set_ylim([frame[\"s2\"].min(), frame[\"s2\"].max()])\n",
    "    def init():\n",
    "        return scatter\n",
    "    \n",
    "    dates = np.sort(frame.Date_Time.unique())\n",
    "    def update_scatter(i):\n",
    "        xy = frame[frame.Date_Time == dates[i]]\n",
    "        scatter.set_offsets(xy[['s1', 's2']])\n",
    "        scatter.set_array(xy['DBZH'])\n",
    "        return scatter,\n",
    "\n",
    "    anim = animation.FuncAnimation(fig, update_scatter,\n",
    "                                   frames=len(dates), interval=400)\n",
    "    fig.colorbar(scatter, cax=cax)\n",
    "\n",
    "    return anim\n",
    "vid = plot_video(df)\n",
    "#vid.save(\"all_928.mp4\")"
   ]
  },
  {
   "cell_type": "code",
   "execution_count": null,
   "metadata": {},
   "outputs": [],
   "source": [
    "full_index = pd.DataFrame(np.array(np.meshgrid(df.Date_Time.unique(), df.s1.unique(), \n",
    "                                               df.s2.unique())).T.reshape(-1, 3), columns=[\"Date_Time\", \"s1\", \"s2\"])\n",
    "df = df.set_index([\"Date_Time\", \"s1\", \"s2\"])\n",
    "full_df = pd.concat([full_index, pd.DataFrame(np.zeros((full_index.shape[0], 1)))], axis=1)\n",
    "\n",
    "columns = [\"Date_Time\", \"s1\", \"s2\"] + list(df.columns)"
   ]
  },
  {
   "cell_type": "code",
   "execution_count": null,
   "metadata": {},
   "outputs": [],
   "source": [
    "full_df = pd.concat([full_index, pd.DataFrame(np.zeros((full_index.shape[0], 5)),\n",
    "                       columns=df.columns)], axis=1)\n",
    "full_df[\"Date_Time\"] = pd.to_datetime(full_df[\"Date_Time\"])\n",
    "full_indexed = full_df.set_index([\"Date_Time\", \"s1\", \"s2\"])\n",
    "joined = full_indexed.join(df, lsuffix='_delete')\n",
    "joined = joined[[j for j in joined.columns if \"_delete\" not in j]]"
   ]
  },
  {
   "cell_type": "code",
   "execution_count": null,
   "metadata": {},
   "outputs": [],
   "source": [
    "len(joined[joined.DBZH.isnull()]), len(joined[~joined.DBZH.isnull()])"
   ]
  },
  {
   "cell_type": "code",
   "execution_count": null,
   "metadata": {
    "scrolled": true
   },
   "outputs": [],
   "source": [
    "imputed = joined.fillna(0)\n",
    "imputed = imputed.reset_index()\n",
    "ax = imputed.groupby([\"s1\", \"s2\"]).Date_Time.count().hist()\n",
    "ax.set_title(\"# of scans per x/y point, 09/01/2017\")\n",
    "imputed.groupby([\"s1\", \"s2\"]).DBZH.count().describe()"
   ]
  },
  {
   "cell_type": "markdown",
   "metadata": {},
   "source": [
    "## All values"
   ]
  },
  {
   "cell_type": "code",
   "execution_count": null,
   "metadata": {
    "scrolled": false
   },
   "outputs": [],
   "source": [
    "def plot_ts(radar_df):\n",
    "    fig, axes = plt.subplots(2, 2, figsize=(16, 15))\n",
    "    axes = axes.flatten()\n",
    "    for func, ax in zip(['mean', 'median', 'std', 'max'], axes):\n",
    "        x = radar_df if func != 'median' else radar_df[radar_df.DBZH > 0]\n",
    "        res = getattr(x.groupby(\"Date_Time\").DBZH, func)()\n",
    "        res.plot(ax=ax, style='-o')\n",
    "        ax.set_title(func.title() if func != 'median' else \"Median of values > 0\")\n",
    "plot_ts(imputed)"
   ]
  },
  {
   "cell_type": "markdown",
   "metadata": {},
   "source": [
    "## Weather cut"
   ]
  },
  {
   "cell_type": "code",
   "execution_count": null,
   "metadata": {
    "scrolled": false
   },
   "outputs": [],
   "source": [
    "good_weather = imputed[imputed['DBZH'] < 35]\n",
    "print(len(imputed), len(good_weather), len(good_weather) / len(imputed))\n",
    "plot_ts(good_weather)"
   ]
  },
  {
   "cell_type": "markdown",
   "metadata": {},
   "source": [
    "## Insect cut"
   ]
  },
  {
   "cell_type": "code",
   "execution_count": null,
   "metadata": {
    "scrolled": true
   },
   "outputs": [],
   "source": [
    "# isolate birds\n",
    "no_insect_1 = good_weather[good_weather['RHOHV'] <= 0.95]\n",
    "print(\"=== insects, first cut ===\")\n",
    "print(len(imputed), len(no_insect_1), len(no_insect_1) / len(imputed))\n",
    "\n",
    "\n",
    "no_insect_2 = no_insect_1[(no_insect_1['VRADH'] >= 1 )| \\\n",
    "                          (no_insect_1['VRADH'] <= -1)]\n",
    "print(\"\\n=== insects, second cut ===\")\n",
    "print(len(imputed), len(no_insect_2), len(no_insect_2) / len(imputed))\n",
    "plot_ts(no_insect_2)"
   ]
  },
  {
   "cell_type": "code",
   "execution_count": null,
   "metadata": {
    "scrolled": true
   },
   "outputs": [],
   "source": [
    "plot_video(no_insect_2).save(\"cuts_928.mp4\")"
   ]
  },
  {
   "cell_type": "markdown",
   "metadata": {},
   "source": [
    "### Plots of individual pixels"
   ]
  },
  {
   "cell_type": "code",
   "execution_count": null,
   "metadata": {},
   "outputs": [],
   "source": []
  },
  {
   "cell_type": "code",
   "execution_count": null,
   "metadata": {},
   "outputs": [],
   "source": [
    "len(imputed) / 1000"
   ]
  },
  {
   "cell_type": "code",
   "execution_count": null,
   "metadata": {
    "scrolled": false
   },
   "outputs": [],
   "source": [
    "fig, (ax1, ax2) = plt.subplots(2, 1, figsize=(16, 20))\n",
    "for i, (s1s2, g) in enumerate(imputed.groupby([\"s1\", \"s2\"])):\n",
    "    if not i % 1000:\n",
    "        # \"mean\" of 1 record in each (s1, s2, t) tuple\n",
    "        vals = g.groupby(\"Date_Time\").DBZH.mean()\n",
    "        \n",
    "        vals.plot(style='-o', ax=ax1)\n",
    "        sorted_arr = vals.sort_index()\n",
    "        ax2.plot(sorted_arr.index[1:], sorted_arr.values[1:] - sorted_arr.values[:-1])\n",
    "ax1.set_title(\"Values of sampling of 1700 radar pixels\")\n",
    "ax2.set_title(\"Noise on 1700 radar pixels\")"
   ]
  },
  {
   "cell_type": "code",
   "execution_count": null,
   "metadata": {},
   "outputs": [],
   "source": [
    "fig, (ax1, ax2) = plt.subplots(2, 1, figsize=(16, 20))\n",
    "for i, (s1s2, g) in enumerate(good_weather.groupby([\"s1\", \"s2\"])):\n",
    "    if not i % 1000:\n",
    "        # \"mean\" of 1 record in each (s1, s2, t) tuple\n",
    "        vals = g.groupby(\"Date_Time\").DBZH.mean()\n",
    "        \n",
    "        vals.plot(style='-o', ax=ax1)\n",
    "        sorted_arr = vals.sort_index()\n",
    "        ax2.plot(sorted_arr.index[1:], sorted_arr.values[1:] - sorted_arr.values[:-1])\n",
    "ax1.set_title(\"Values of sampling of 1700 radar pixels, weather cut\")\n",
    "ax2.set_title(\"Noise on 1700 radar pixels, weather cut\")"
   ]
  },
  {
   "cell_type": "code",
   "execution_count": null,
   "metadata": {},
   "outputs": [],
   "source": [
    "fig, (ax1, ax2) = plt.subplots(2, 1, figsize=(16, 20))\n",
    "for i, (s1s2, g) in enumerate(no_insect_2.groupby([\"s1\", \"s2\"])):\n",
    "    if not i % 1000:\n",
    "        # \"mean\" of 1 record in each (s1, s2, t) tuple\n",
    "        vals = g.groupby(\"Date_Time\").DBZH.mean()\n",
    "        \n",
    "        vals.plot(style='-o', ax=ax1)\n",
    "        sorted_arr = vals.sort_index()\n",
    "        ax2.plot(sorted_arr.index[1:], sorted_arr.values[1:] - sorted_arr.values[:-1])\n",
    "ax1.set_title(\"Values of sampling of 1700 radar pixels, final cut\")\n",
    "ax2.set_title(\"Noise on 1700 radar pixels, final cut\")"
   ]
  },
  {
   "cell_type": "markdown",
   "metadata": {},
   "source": [
    "# Convert radar (x,y) meters from KOKX to lat long "
   ]
  },
  {
   "cell_type": "code",
   "execution_count": null,
   "metadata": {
    "scrolled": true
   },
   "outputs": [],
   "source": [
    "# kokx location\n",
    "kokx_lat = 40.865531\n",
    "kokx_lon = -72.863944\n",
    "\n",
    "# convert kokx latlong to feet\n",
    "kokx_ft = latlon_to_ny(kokx_lat,kokx_lon)\n",
    "kokx_ft"
   ]
  },
  {
   "cell_type": "code",
   "execution_count": null,
   "metadata": {},
   "outputs": [],
   "source": [
    "ny_to_latlon(kokx_ft[0],kokx_ft[1])"
   ]
  },
  {
   "cell_type": "code",
   "execution_count": null,
   "metadata": {},
   "outputs": [],
   "source": [
    "# convert meters to feet\n",
    "imputed['s1'] = imputed['s1'] * 3.28084\n",
    "imputed['s2'] = imputed['s2'] * 3.28084\n",
    "\n",
    "imputed.head()"
   ]
  },
  {
   "cell_type": "code",
   "execution_count": null,
   "metadata": {},
   "outputs": [],
   "source": [
    "# reorient s1 and s2 with kokx location in state plane\n",
    "# s1 is x, add kokx_ft x\n",
    "# s2 is y, add kokx_ft y\n",
    "\n",
    "imputed['s1'] = imputed['s1'] + kokx_ft[0]\n",
    "imputed['s2'] = imputed['s2'] + kokx_ft[1]\n",
    "\n",
    "imputed.head()"
   ]
  },
  {
   "cell_type": "code",
   "execution_count": null,
   "metadata": {},
   "outputs": [],
   "source": [
    "imputed['latlon'] = imputed[['s1','s2']].apply(lambda x: ny_to_latlon(x['s1'], x['s2']), axis=1)\n",
    "\n",
    "imputed['lat'] = imputed['latlon'].apply(lambda  x : x[0])\n",
    "imputed['lon'] = imputed['latlon'].apply(lambda  x : x[1])\n",
    "\n",
    "imputed.drop(columns=['latlon'],inplace=True)"
   ]
  },
  {
   "cell_type": "code",
   "execution_count": null,
   "metadata": {},
   "outputs": [],
   "source": [
    "imputed.head()"
   ]
  },
  {
   "cell_type": "code",
   "execution_count": null,
   "metadata": {},
   "outputs": [],
   "source": [
    "# isolate to Manhattan below central park\n",
    "\n",
    "imputed = imputed[(imputed['lat'] >= 40.696417 ) & (imputed['lat'] <= 40.766791)]\n",
    "imputed = imputed[(imputed['lon'] >= -74.022494) & (imputed['lon'] <= -73.959454)]\n",
    "len(imputed)"
   ]
  },
  {
   "cell_type": "code",
   "execution_count": null,
   "metadata": {},
   "outputs": [],
   "source": [
    "imputed.head()"
   ]
  },
  {
   "cell_type": "code",
   "execution_count": null,
   "metadata": {},
   "outputs": [],
   "source": [
    "imputed['DBZH'].describe()"
   ]
  },
  {
   "cell_type": "code",
   "execution_count": null,
   "metadata": {},
   "outputs": [],
   "source": [
    "time_list = list(imputed['Date_Time'].dt.day.unique())"
   ]
  },
  {
   "cell_type": "code",
   "execution_count": null,
   "metadata": {},
   "outputs": [],
   "source": [
    "Bird_Count(imputed[imputed['Date_Time'] == '2017-04-24 01:33:55']['DBZH'].mean())"
   ]
  },
  {
   "cell_type": "code",
   "execution_count": null,
   "metadata": {},
   "outputs": [],
   "source": [
    "df.to_csv('KOKX_2017_04_birds.csv',index=False)"
   ]
  },
  {
   "cell_type": "code",
   "execution_count": null,
   "metadata": {},
   "outputs": [],
   "source": [
    "time_list"
   ]
  },
  {
   "cell_type": "code",
   "execution_count": null,
   "metadata": {},
   "outputs": [],
   "source": [
    "import matplotlib.pyplot as plt\n",
    "plt.hist(df['DBZH'],bins=20)\n",
    "plt.show()"
   ]
  },
  {
   "cell_type": "code",
   "execution_count": null,
   "metadata": {},
   "outputs": [],
   "source": [
    "# cut down to lat long over manhattan"
   ]
  }
 ],
 "metadata": {
  "kernelspec": {
   "display_name": "Python 3",
   "language": "python",
   "name": "python3"
  },
  "language_info": {
   "codemirror_mode": {
    "name": "ipython",
    "version": 3
   },
   "file_extension": ".py",
   "mimetype": "text/x-python",
   "name": "python",
   "nbconvert_exporter": "python",
   "pygments_lexer": "ipython3",
   "version": "3.6.3"
  }
 },
 "nbformat": 4,
 "nbformat_minor": 2
}
